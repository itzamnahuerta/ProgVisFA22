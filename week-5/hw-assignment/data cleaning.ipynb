{
 "cells": [
  {
   "cell_type": "markdown",
   "id": "1d7e1c26",
   "metadata": {},
   "source": [
    "# US Diplomatic Gifts 2001-2018\n",
    "\n",
    "This data is about gifts given between 1999 and 2018 to U.S. federal employees from foreign government sources, such as when a foreign leader visits the U.S. and presents the President with a gift. Articles about these gifts pop up every few years, often prompted by a notable gift to the President or First Family from a visiting foreign leader. This article from Foreign Press and this listicle from Mental Floss lists some notable gifts."
   ]
  },
  {
   "cell_type": "code",
   "execution_count": 128,
   "id": "aaa7d7b8",
   "metadata": {},
   "outputs": [],
   "source": [
    "import pandas as pd\n",
    "import numpy as np"
   ]
  },
  {
   "cell_type": "code",
   "execution_count": 70,
   "id": "d662bef1",
   "metadata": {},
   "outputs": [],
   "source": [
    "df = pd.read_csv('./gifts.csv')"
   ]
  },
  {
   "cell_type": "code",
   "execution_count": 71,
   "id": "82fe2ec7",
   "metadata": {
    "scrolled": true
   },
   "outputs": [
    {
     "data": {
      "text/html": [
       "<div>\n",
       "<style scoped>\n",
       "    .dataframe tbody tr th:only-of-type {\n",
       "        vertical-align: middle;\n",
       "    }\n",
       "\n",
       "    .dataframe tbody tr th {\n",
       "        vertical-align: top;\n",
       "    }\n",
       "\n",
       "    .dataframe thead th {\n",
       "        text-align: right;\n",
       "    }\n",
       "</style>\n",
       "<table border=\"1\" class=\"dataframe\">\n",
       "  <thead>\n",
       "    <tr style=\"text-align: right;\">\n",
       "      <th></th>\n",
       "      <th>Unnamed: 0</th>\n",
       "      <th>id</th>\n",
       "      <th>recipient</th>\n",
       "      <th>agency_name</th>\n",
       "      <th>year_received</th>\n",
       "      <th>date_received</th>\n",
       "      <th>donor</th>\n",
       "      <th>donor_country</th>\n",
       "      <th>gift_description</th>\n",
       "      <th>value_usd</th>\n",
       "      <th>justification</th>\n",
       "    </tr>\n",
       "  </thead>\n",
       "  <tbody>\n",
       "    <tr>\n",
       "      <th>0</th>\n",
       "      <td>0</td>\n",
       "      <td>1</td>\n",
       "      <td>President</td>\n",
       "      <td>NaN</td>\n",
       "      <td>1999</td>\n",
       "      <td>NaN</td>\n",
       "      <td>His Excellency Petru Lucinschi, President of t...</td>\n",
       "      <td>Moldova</td>\n",
       "      <td>40\" x 29\" gilt framed oil painting of an autum...</td>\n",
       "      <td>1500.0</td>\n",
       "      <td>Non-acceptance would cause embarrassment to do...</td>\n",
       "    </tr>\n",
       "    <tr>\n",
       "      <th>1</th>\n",
       "      <td>1</td>\n",
       "      <td>2</td>\n",
       "      <td>President</td>\n",
       "      <td>NaN</td>\n",
       "      <td>1999</td>\n",
       "      <td>NaN</td>\n",
       "      <td>His Excellency, Keizo Obuchi, The Prime Minist...</td>\n",
       "      <td>Japan</td>\n",
       "      <td>Six bottles of sake. Recd--November 20, 1998. ...</td>\n",
       "      <td>14500.0</td>\n",
       "      <td>Non-acceptance would cause embarrassment to do...</td>\n",
       "    </tr>\n",
       "    <tr>\n",
       "      <th>2</th>\n",
       "      <td>2</td>\n",
       "      <td>3</td>\n",
       "      <td>President</td>\n",
       "      <td>NaN</td>\n",
       "      <td>1999</td>\n",
       "      <td>NaN</td>\n",
       "      <td>Sr. Victor Cervera Pacheco, Governor of Yucata...</td>\n",
       "      <td>Mexico</td>\n",
       "      <td>49\" tall wood chair with a black leather seat ...</td>\n",
       "      <td>1000.0</td>\n",
       "      <td>Non-acceptance would cause embarrassment to do...</td>\n",
       "    </tr>\n",
       "  </tbody>\n",
       "</table>\n",
       "</div>"
      ],
      "text/plain": [
       "   Unnamed: 0  id  recipient agency_name  year_received date_received  \\\n",
       "0           0   1  President         NaN           1999           NaN   \n",
       "1           1   2  President         NaN           1999           NaN   \n",
       "2           2   3  President         NaN           1999           NaN   \n",
       "\n",
       "                                               donor donor_country  \\\n",
       "0  His Excellency Petru Lucinschi, President of t...       Moldova   \n",
       "1  His Excellency, Keizo Obuchi, The Prime Minist...         Japan   \n",
       "2  Sr. Victor Cervera Pacheco, Governor of Yucata...        Mexico   \n",
       "\n",
       "                                    gift_description  value_usd  \\\n",
       "0  40\" x 29\" gilt framed oil painting of an autum...     1500.0   \n",
       "1  Six bottles of sake. Recd--November 20, 1998. ...    14500.0   \n",
       "2  49\" tall wood chair with a black leather seat ...     1000.0   \n",
       "\n",
       "                                       justification  \n",
       "0  Non-acceptance would cause embarrassment to do...  \n",
       "1  Non-acceptance would cause embarrassment to do...  \n",
       "2  Non-acceptance would cause embarrassment to do...  "
      ]
     },
     "execution_count": 71,
     "metadata": {},
     "output_type": "execute_result"
    }
   ],
   "source": [
    "df.head(3)"
   ]
  },
  {
   "cell_type": "code",
   "execution_count": 72,
   "id": "240a4c6b",
   "metadata": {},
   "outputs": [
    {
     "data": {
      "text/plain": [
       "(8392, 11)"
      ]
     },
     "execution_count": 72,
     "metadata": {},
     "output_type": "execute_result"
    }
   ],
   "source": [
    "df.shape"
   ]
  },
  {
   "cell_type": "code",
   "execution_count": 73,
   "id": "c0c6aaff",
   "metadata": {},
   "outputs": [],
   "source": [
    "# removing unamed:0 and id columns\n",
    "df = df.drop(['Unnamed: 0', \"id\"], axis=1)"
   ]
  },
  {
   "cell_type": "code",
   "execution_count": 74,
   "id": "3d678309",
   "metadata": {
    "scrolled": true
   },
   "outputs": [
    {
     "data": {
      "text/plain": [
       "recipient              0\n",
       "agency_name          707\n",
       "year_received          0\n",
       "date_received       3513\n",
       "donor                  5\n",
       "donor_country       1417\n",
       "gift_description       2\n",
       "value_usd            276\n",
       "justification          5\n",
       "dtype: int64"
      ]
     },
     "execution_count": 74,
     "metadata": {},
     "output_type": "execute_result"
    }
   ],
   "source": [
    "# null data\n",
    "df.isna().sum()"
   ]
  },
  {
   "cell_type": "code",
   "execution_count": 75,
   "id": "0b97f2f4",
   "metadata": {},
   "outputs": [
    {
     "data": {
      "text/plain": [
       "Department of State                                                                               1410\n",
       "Executive Office of the President                                                                 1376\n",
       "National Security Council                                                                          858\n",
       "Department of Defense                                                                              764\n",
       "U.S. Senate                                                                                        601\n",
       "Central Intelligence Agency                                                                        544\n",
       "Executive Office of the Vice President                                                             326\n",
       "Department of Navy                                                                                 309\n",
       "Department of Army                                                                                 220\n",
       "Department of Air Force                                                                            215\n",
       "Environmental Protection Agency                                                                    202\n",
       "Department of Commerce                                                                             150\n",
       "Department of Homeland Security                                                                    146\n",
       "U.S. House of Representatives                                                                      104\n",
       "Department of Treasury                                                                              96\n",
       "Department of Justice                                                                               43\n",
       "Administrative Office of the United States Courts                                                   28\n",
       "Department of Agriculture                                                                           26\n",
       "U.S. Agency for International Development                                                           25\n",
       "Federal Emergency Management Agency                                                                 25\n",
       "United States Central Command                                                                       24\n",
       "Federal Communications Commission                                                                   23\n",
       "National Aeronautics and Space Administration                                                       18\n",
       "Department of Energy                                                                                18\n",
       "Federal Reserve Board                                                                               13\n",
       "Defense Intelligence Agency                                                                         13\n",
       "U.S. Marine Corps                                                                                   12\n",
       "Department of Transportation                                                                        11\n",
       "Office of the Mayor of the District of Columbia                                                     10\n",
       "Office of the Director of National Intelligence                                                      9\n",
       "Office of Science and Technology Policy                                                              9\n",
       "Department of Education                                                                              9\n",
       "National Archives and Records Administration                                                         8\n",
       "Health and Human Services                                                                            5\n",
       "Smithsonian Institution                                                                              4\n",
       "Peace Corps                                                                                          3\n",
       "FBI                                                                                                  3\n",
       "Defense Logistics Agency                                                                             3\n",
       "Holocaust Memorial Museum                                                                            2\n",
       "Department of Health and Human Services                                                              2\n",
       "Office of the U.S. Trade Representative                                                              2\n",
       "Department of Interior                                                                               2\n",
       "Research and Innovative Technology Administration/Volpe National Transportation Systems Center       2\n",
       "National Transportation Safety Board                                                                 1\n",
       "Export Import Bank                                                                                   1\n",
       "U.S. European Command                                                                                1\n",
       "Office of Personnel Management                                                                       1\n",
       "Committee on Standards of Official Conduct                                                           1\n",
       "Department of Veterans' Affairs                                                                      1\n",
       "Office of National Drug Control Policy                                                               1\n",
       "Department of Housing and Urban Development                                                          1\n",
       "Federal Energy Regulatory Commission                                                                 1\n",
       "National Science Foundation                                                                          1\n",
       "Appalachian Regional Commission                                                                      1\n",
       "Federal Housing Finance Board                                                                        1\n",
       "Name: agency_name, dtype: int64"
      ]
     },
     "execution_count": 75,
     "metadata": {},
     "output_type": "execute_result"
    }
   ],
   "source": [
    "df['agency_name'].value_counts()"
   ]
  },
  {
   "cell_type": "code",
   "execution_count": 76,
   "id": "3e8cff3f",
   "metadata": {},
   "outputs": [
    {
     "data": {
      "text/plain": [
       "1977      1\n",
       "1985      1\n",
       "1995      1\n",
       "1997      4\n",
       "1998      1\n",
       "1999    330\n",
       "2000    380\n",
       "2001    306\n",
       "2002    353\n",
       "2003    313\n",
       "2004    279\n",
       "2005    360\n",
       "2006    442\n",
       "2007    531\n",
       "2008    423\n",
       "2009    560\n",
       "2010    501\n",
       "2011    723\n",
       "2012    508\n",
       "2013    570\n",
       "2014    503\n",
       "2015    480\n",
       "2016    325\n",
       "2017    301\n",
       "2018    196\n",
       "Name: year_received, dtype: int64"
      ]
     },
     "execution_count": 76,
     "metadata": {},
     "output_type": "execute_result"
    }
   ],
   "source": [
    "df['year_received'].value_counts().sort_index()"
   ]
  },
  {
   "cell_type": "code",
   "execution_count": 77,
   "id": "7561371c",
   "metadata": {
    "scrolled": false
   },
   "outputs": [
    {
     "data": {
      "text/plain": [
       "1999    330\n",
       "2000    380\n",
       "2001    306\n",
       "2002    353\n",
       "2003    313\n",
       "2004    279\n",
       "2005    360\n",
       "2006    442\n",
       "2007    531\n",
       "2008    423\n",
       "2009    560\n",
       "2010    501\n",
       "2011    723\n",
       "2012    508\n",
       "2013    570\n",
       "2014    503\n",
       "2015    480\n",
       "2016    325\n",
       "2017    301\n",
       "2018    196\n",
       "Name: year_received, dtype: int64"
      ]
     },
     "execution_count": 77,
     "metadata": {},
     "output_type": "execute_result"
    }
   ],
   "source": [
    "# removing 1977 - 1998 as a result of value counts being below 5, focusing on 1999 - 2018\n",
    "df = df[df['year_received'] >= 1999]\n",
    "df['year_received'].value_counts().sort_index()"
   ]
  },
  {
   "cell_type": "code",
   "execution_count": 78,
   "id": "3e6581b1",
   "metadata": {},
   "outputs": [
    {
     "data": {
      "text/plain": [
       "2011    723\n",
       "2013    570\n",
       "2009    560\n",
       "2007    531\n",
       "2012    508\n",
       "2014    503\n",
       "2010    501\n",
       "2015    480\n",
       "2006    442\n",
       "2008    423\n",
       "2000    380\n",
       "2005    360\n",
       "2002    353\n",
       "1999    330\n",
       "2016    325\n",
       "2003    313\n",
       "2001    306\n",
       "2017    301\n",
       "2004    279\n",
       "2018    196\n",
       "Name: year_received, dtype: int64"
      ]
     },
     "execution_count": 78,
     "metadata": {},
     "output_type": "execute_result"
    }
   ],
   "source": [
    "# removing 1977 - 1998 as a result of value counts being below 5, focusing on 1999 - 2018\n",
    "df = df[df['year_received'] >= 1999]\n",
    "df['year_received'].value_counts()"
   ]
  },
  {
   "cell_type": "code",
   "execution_count": 79,
   "id": "d16932b8",
   "metadata": {},
   "outputs": [],
   "source": [
    "# removing rows where country is null\n",
    "df = df.dropna(subset=\"donor_country\")"
   ]
  },
  {
   "cell_type": "code",
   "execution_count": 80,
   "id": "b4fc3e35",
   "metadata": {
    "scrolled": false
   },
   "outputs": [
    {
     "data": {
      "text/plain": [
       "recipient              0\n",
       "agency_name          579\n",
       "year_received          0\n",
       "date_received       2898\n",
       "donor                  2\n",
       "donor_country          0\n",
       "gift_description       2\n",
       "value_usd            255\n",
       "justification          2\n",
       "dtype: int64"
      ]
     },
     "execution_count": 80,
     "metadata": {},
     "output_type": "execute_result"
    }
   ],
   "source": [
    "# making sure nulls for donor country were removed\n",
    "df.isna().sum()"
   ]
  },
  {
   "cell_type": "code",
   "execution_count": 82,
   "id": "37d68693",
   "metadata": {},
   "outputs": [
    {
     "data": {
      "text/plain": [
       "(6968, 9)"
      ]
     },
     "execution_count": 82,
     "metadata": {},
     "output_type": "execute_result"
    }
   ],
   "source": [
    "# about 2000 records were removed \n",
    "df.shape"
   ]
  },
  {
   "cell_type": "code",
   "execution_count": 83,
   "id": "bf81e186",
   "metadata": {},
   "outputs": [],
   "source": [
    "# value of gifts are also important, so i will be removing null records from the dataset \n",
    "df = df.dropna(subset=\"value_usd\")"
   ]
  },
  {
   "cell_type": "code",
   "execution_count": 84,
   "id": "84e72eb9",
   "metadata": {},
   "outputs": [
    {
     "data": {
      "text/plain": [
       "recipient              0\n",
       "agency_name          512\n",
       "year_received          0\n",
       "date_received       2773\n",
       "donor                  2\n",
       "donor_country          0\n",
       "gift_description       2\n",
       "value_usd              0\n",
       "justification          2\n",
       "dtype: int64"
      ]
     },
     "execution_count": 84,
     "metadata": {},
     "output_type": "execute_result"
    }
   ],
   "source": [
    "# making sure they were removed again\n",
    "df.isna().sum()"
   ]
  },
  {
   "cell_type": "code",
   "execution_count": 85,
   "id": "bb5aa4df",
   "metadata": {},
   "outputs": [],
   "source": [
    "# will be removing null values from agency_name, just incase i want to use it \n",
    "df = df.dropna(subset=\"agency_name\")"
   ]
  },
  {
   "cell_type": "code",
   "execution_count": 87,
   "id": "75a6b2ce",
   "metadata": {},
   "outputs": [],
   "source": [
    "df = df.dropna(subset=\"donor\")\n",
    "df = df.dropna(subset=\"justification\")"
   ]
  },
  {
   "cell_type": "code",
   "execution_count": 89,
   "id": "b270a115",
   "metadata": {},
   "outputs": [
    {
     "data": {
      "text/plain": [
       "recipient              0\n",
       "agency_name            0\n",
       "year_received          0\n",
       "date_received       2258\n",
       "donor                  0\n",
       "donor_country          0\n",
       "gift_description       0\n",
       "value_usd              0\n",
       "justification          0\n",
       "dtype: int64"
      ]
     },
     "execution_count": 89,
     "metadata": {},
     "output_type": "execute_result"
    }
   ],
   "source": [
    "# cool, no nulls, date received isn't as important as the year for this assignment\n",
    "df.isna().sum()"
   ]
  },
  {
   "cell_type": "markdown",
   "id": "ee9315ef",
   "metadata": {},
   "source": [
    "## Top 15 countries that have donated gifts to US Diplomats?"
   ]
  },
  {
   "cell_type": "code",
   "execution_count": 102,
   "id": "2d3ad277",
   "metadata": {
    "scrolled": false
   },
   "outputs": [
    {
     "data": {
      "text/plain": [
       "Qatar                   379\n",
       "Saudi Arabia            373\n",
       "Afghanistan             343\n",
       "Jordan                  243\n",
       "China                   233\n",
       "United Arab Emirates    201\n",
       "Italy                   190\n",
       "Pakistan                188\n",
       "Iraq                    174\n",
       "Kuwait                  147\n",
       "Japan                   130\n",
       "Bahrain                 127\n",
       "Russia                  116\n",
       "France                  113\n",
       "Egypt                   111\n",
       "Name: donor_country, dtype: int64"
      ]
     },
     "execution_count": 102,
     "metadata": {},
     "output_type": "execute_result"
    }
   ],
   "source": [
    "df['donor_country'].value_counts().sort_values(ascending=False).nlargest(15)"
   ]
  },
  {
   "cell_type": "code",
   "execution_count": 105,
   "id": "466d07b6",
   "metadata": {},
   "outputs": [],
   "source": [
    "top_15 = df.loc[df['donor_country'].isin([\"Qatar\", \"Saudi Arabia\",\"Afghanistan\",\"Jordan\",\"China\",\"United Arab Emirates\",\"Italy\",\"Pakistan\",\"Iraq\",\"Kuwait\",\"Japan\",\"Bahrain\",\"Russia\",\"France\",\"Egypt\"])]"
   ]
  },
  {
   "cell_type": "code",
   "execution_count": 122,
   "id": "1e5877ba",
   "metadata": {},
   "outputs": [
    {
     "data": {
      "text/html": [
       "<div>\n",
       "<style scoped>\n",
       "    .dataframe tbody tr th:only-of-type {\n",
       "        vertical-align: middle;\n",
       "    }\n",
       "\n",
       "    .dataframe tbody tr th {\n",
       "        vertical-align: top;\n",
       "    }\n",
       "\n",
       "    .dataframe thead th {\n",
       "        text-align: right;\n",
       "    }\n",
       "</style>\n",
       "<table border=\"1\" class=\"dataframe\">\n",
       "  <thead>\n",
       "    <tr style=\"text-align: right;\">\n",
       "      <th></th>\n",
       "      <th>recipient</th>\n",
       "      <th>agency_name</th>\n",
       "      <th>year_received</th>\n",
       "      <th>date_received</th>\n",
       "      <th>donor</th>\n",
       "      <th>donor_country</th>\n",
       "      <th>gift_description</th>\n",
       "      <th>value_usd</th>\n",
       "      <th>justification</th>\n",
       "    </tr>\n",
       "  </thead>\n",
       "  <tbody>\n",
       "    <tr>\n",
       "      <th>716</th>\n",
       "      <td>Donald L. Evans, Secretary of Commerce</td>\n",
       "      <td>Department of Commerce</td>\n",
       "      <td>2001</td>\n",
       "      <td>NaN</td>\n",
       "      <td>German Gref, Minister, Economic Development an...</td>\n",
       "      <td>Russia</td>\n",
       "      <td>Cafe Pushkin, Moscow, Russia. Rec'd--July 27, ...</td>\n",
       "      <td>1200.0</td>\n",
       "      <td>Non-acceptance would cause embarrassment to do...</td>\n",
       "    </tr>\n",
       "    <tr>\n",
       "      <th>719</th>\n",
       "      <td>Donald H. Rumsfeld, Sec. of Defense</td>\n",
       "      <td>Department of Defense</td>\n",
       "      <td>2001</td>\n",
       "      <td>NaN</td>\n",
       "      <td>Field Marshall Hussein Tantawy, Egypt</td>\n",
       "      <td>Egypt</td>\n",
       "      <td>Cotton rug. Rec'd--Oct. 4, 2001. Est. Value-- ...</td>\n",
       "      <td>350.0</td>\n",
       "      <td>Non-acceptance would cause embarrassment to do...</td>\n",
       "    </tr>\n",
       "    <tr>\n",
       "      <th>723</th>\n",
       "      <td>Donald H. Rumsfeld, Sec. of Defense</td>\n",
       "      <td>Department of Defense</td>\n",
       "      <td>2001</td>\n",
       "      <td>NaN</td>\n",
       "      <td>Salim Al-Abdallah Jabir Al Sabah, Ambassador K...</td>\n",
       "      <td>Kuwait</td>\n",
       "      <td>Tiffany crystal bowl. Rec'd--Dec. 15, 2001. Es...</td>\n",
       "      <td>420.0</td>\n",
       "      <td>Non-acceptance would cause embarrassment to do...</td>\n",
       "    </tr>\n",
       "    <tr>\n",
       "      <th>724</th>\n",
       "      <td>Donald H. Rumsfeld, Sec. of Defense</td>\n",
       "      <td>Department of Defense</td>\n",
       "      <td>2001</td>\n",
       "      <td>NaN</td>\n",
       "      <td>Fahid Kahn, MOD Afghanistan</td>\n",
       "      <td>Afghanistan</td>\n",
       "      <td>Silk carpet. Rec'd-- Dec. 16, 2001. Est. Value...</td>\n",
       "      <td>390.0</td>\n",
       "      <td>Non-acceptance would cause embarrassment to do...</td>\n",
       "    </tr>\n",
       "    <tr>\n",
       "      <th>727</th>\n",
       "      <td>Donald H. Rumsfeld, Sec. of Defense</td>\n",
       "      <td>Department of Defense</td>\n",
       "      <td>2001</td>\n",
       "      <td>NaN</td>\n",
       "      <td>President General Pervez Musharraf of Pakistan</td>\n",
       "      <td>Pakistan</td>\n",
       "      <td>Large wood chest w/ brass and copper. Rec'd--N...</td>\n",
       "      <td>340.0</td>\n",
       "      <td>Non-acceptance would cause embarrassment to do...</td>\n",
       "    </tr>\n",
       "  </tbody>\n",
       "</table>\n",
       "</div>"
      ],
      "text/plain": [
       "                                  recipient             agency_name  \\\n",
       "716  Donald L. Evans, Secretary of Commerce  Department of Commerce   \n",
       "719     Donald H. Rumsfeld, Sec. of Defense   Department of Defense   \n",
       "723     Donald H. Rumsfeld, Sec. of Defense   Department of Defense   \n",
       "724     Donald H. Rumsfeld, Sec. of Defense   Department of Defense   \n",
       "727     Donald H. Rumsfeld, Sec. of Defense   Department of Defense   \n",
       "\n",
       "     year_received date_received  \\\n",
       "716           2001           NaN   \n",
       "719           2001           NaN   \n",
       "723           2001           NaN   \n",
       "724           2001           NaN   \n",
       "727           2001           NaN   \n",
       "\n",
       "                                                 donor donor_country  \\\n",
       "716  German Gref, Minister, Economic Development an...        Russia   \n",
       "719              Field Marshall Hussein Tantawy, Egypt         Egypt   \n",
       "723  Salim Al-Abdallah Jabir Al Sabah, Ambassador K...        Kuwait   \n",
       "724                        Fahid Kahn, MOD Afghanistan   Afghanistan   \n",
       "727     President General Pervez Musharraf of Pakistan      Pakistan   \n",
       "\n",
       "                                      gift_description  value_usd  \\\n",
       "716  Cafe Pushkin, Moscow, Russia. Rec'd--July 27, ...     1200.0   \n",
       "719  Cotton rug. Rec'd--Oct. 4, 2001. Est. Value-- ...      350.0   \n",
       "723  Tiffany crystal bowl. Rec'd--Dec. 15, 2001. Es...      420.0   \n",
       "724  Silk carpet. Rec'd-- Dec. 16, 2001. Est. Value...      390.0   \n",
       "727  Large wood chest w/ brass and copper. Rec'd--N...      340.0   \n",
       "\n",
       "                                         justification  \n",
       "716  Non-acceptance would cause embarrassment to do...  \n",
       "719  Non-acceptance would cause embarrassment to do...  \n",
       "723  Non-acceptance would cause embarrassment to do...  \n",
       "724  Non-acceptance would cause embarrassment to do...  \n",
       "727  Non-acceptance would cause embarrassment to do...  "
      ]
     },
     "execution_count": 122,
     "metadata": {},
     "output_type": "execute_result"
    }
   ],
   "source": [
    "top_15.head()"
   ]
  },
  {
   "cell_type": "markdown",
   "id": "0b6b2d60",
   "metadata": {},
   "source": [
    "## What is the most expensive and least expensive gift given from the top donor countries?"
   ]
  },
  {
   "cell_type": "code",
   "execution_count": 123,
   "id": "5a8921eb",
   "metadata": {
    "scrolled": false
   },
   "outputs": [],
   "source": [
    "min_max_gifts = pd.pivot_table(top_15, index=['donor_country'], values=['value_usd', 'gift_description', \"recipient\", \"year_received\", \"donor\"] ,aggfunc=[min, max, sum])"
   ]
  },
  {
   "cell_type": "code",
   "execution_count": 124,
   "id": "fa83e980",
   "metadata": {},
   "outputs": [],
   "source": [
    "min_max_gifts = min_max_gifts.reset_index()\n"
   ]
  },
  {
   "cell_type": "code",
   "execution_count": 126,
   "id": "3eef445b",
   "metadata": {
    "scrolled": false
   },
   "outputs": [
    {
     "data": {
      "text/html": [
       "<div>\n",
       "<style scoped>\n",
       "    .dataframe tbody tr th:only-of-type {\n",
       "        vertical-align: middle;\n",
       "    }\n",
       "\n",
       "    .dataframe tbody tr th {\n",
       "        vertical-align: top;\n",
       "    }\n",
       "\n",
       "    .dataframe thead tr th {\n",
       "        text-align: left;\n",
       "    }\n",
       "</style>\n",
       "<table border=\"1\" class=\"dataframe\">\n",
       "  <thead>\n",
       "    <tr>\n",
       "      <th></th>\n",
       "      <th>donor_country</th>\n",
       "      <th colspan=\"5\" halign=\"left\">min</th>\n",
       "      <th colspan=\"5\" halign=\"left\">max</th>\n",
       "      <th colspan=\"2\" halign=\"left\">sum</th>\n",
       "    </tr>\n",
       "    <tr>\n",
       "      <th></th>\n",
       "      <th></th>\n",
       "      <th>donor</th>\n",
       "      <th>gift_description</th>\n",
       "      <th>recipient</th>\n",
       "      <th>value_usd</th>\n",
       "      <th>year_received</th>\n",
       "      <th>donor</th>\n",
       "      <th>gift_description</th>\n",
       "      <th>recipient</th>\n",
       "      <th>value_usd</th>\n",
       "      <th>year_received</th>\n",
       "      <th>value_usd</th>\n",
       "      <th>year_received</th>\n",
       "    </tr>\n",
       "  </thead>\n",
       "  <tbody>\n",
       "    <tr>\n",
       "      <th>0</th>\n",
       "      <td>Afghanistan</td>\n",
       "      <td>Abdul Rahim Wardak, Defense Minister, Islamic ...</td>\n",
       "      <td>(1) Red and Black Woven Rug with White Tassels...</td>\n",
       "      <td>AG Name and title of person accepting the gift...</td>\n",
       "      <td>35.0</td>\n",
       "      <td>2001</td>\n",
       "      <td>the President Gifts] Identity of foreign donor...</td>\n",
       "      <td>Woven wool Afghani carpet. Rec'd--6-Mar- 07; E...</td>\n",
       "      <td>White House Staff Member. LTG Lute, Douglas</td>\n",
       "      <td>110000.00</td>\n",
       "      <td>2018</td>\n",
       "      <td>505429.42</td>\n",
       "      <td>689296</td>\n",
       "    </tr>\n",
       "    <tr>\n",
       "      <th>1</th>\n",
       "      <td>Bahrain</td>\n",
       "      <td>Abdulla H. Saif, Finance Minister, Government ...</td>\n",
       "      <td>(1) Plaque stating ``Bahrain Defense Force'' o...</td>\n",
       "      <td>Admiral Gary Roughead, Chief of Naval Operations</td>\n",
       "      <td>120.0</td>\n",
       "      <td>2001</td>\n",
       "      <td>The Kingdom of Bahrain</td>\n",
       "      <td>Wristwatch. Rec'd--6/21/ 2012. Est. Value-- $7...</td>\n",
       "      <td>White House Staff Member. Hadley, Stephen</td>\n",
       "      <td>26450.00</td>\n",
       "      <td>2018</td>\n",
       "      <td>280714.82</td>\n",
       "      <td>255087</td>\n",
       "    </tr>\n",
       "    <tr>\n",
       "      <th>2</th>\n",
       "      <td>China</td>\n",
       "      <td>A delegation of Mayors and Senior Officials fr...</td>\n",
       "      <td>10'' x 6'' x 6'' bronze statue. Rec'd--9/27/ 2...</td>\n",
       "      <td>Admiral Cecil Haney, Commander of the U.S. Pac...</td>\n",
       "      <td>1.4</td>\n",
       "      <td>2001</td>\n",
       "      <td>Zhou Qiang, Secretary of Hunan of the Provinci...</td>\n",
       "      <td>``The Palace Museum'' yellow tie. Ceramic plat...</td>\n",
       "      <td>White House Staff Member. Summers, Lawrence</td>\n",
       "      <td>20000.00</td>\n",
       "      <td>2018</td>\n",
       "      <td>285698.60</td>\n",
       "      <td>468378</td>\n",
       "    </tr>\n",
       "    <tr>\n",
       "      <th>3</th>\n",
       "      <td>Egypt</td>\n",
       "      <td>Abd el Alim Mohamed Tamer, Egyptian CNO</td>\n",
       "      <td>10\" silver replica hookah, enclosed in blue fe...</td>\n",
       "      <td>Admiral Edmund Giambastiani, Vice Chairman, Jo...</td>\n",
       "      <td>85.0</td>\n",
       "      <td>2001</td>\n",
       "      <td>Younis El Masri, Lieutenant General (Air Force...</td>\n",
       "      <td>Yellow alabaster bowl; sterling silver chains ...</td>\n",
       "      <td>White House Staff Member. Donilon, Thomas</td>\n",
       "      <td>10000.00</td>\n",
       "      <td>2018</td>\n",
       "      <td>93518.45</td>\n",
       "      <td>222937</td>\n",
       "    </tr>\n",
       "    <tr>\n",
       "      <th>4</th>\n",
       "      <td>France</td>\n",
       "      <td>Admiral Bernard Rogel and Mrs. Christine Rogel...</td>\n",
       "      <td>$2,700 Swiss Francs in cash. Rec'd--November 1...</td>\n",
       "      <td>Admiral Jonathan Greenert, US Navy, Chief of N...</td>\n",
       "      <td>170.0</td>\n",
       "      <td>2001</td>\n",
       "      <td>World Health Organization, International Agenc...</td>\n",
       "      <td>Wine: 6 bottles of 1990 Chateau Talbot Saint- ...</td>\n",
       "      <td>White House Staff Member Lisa Monaco</td>\n",
       "      <td>15083.62</td>\n",
       "      <td>2018</td>\n",
       "      <td>207180.09</td>\n",
       "      <td>227101</td>\n",
       "    </tr>\n",
       "  </tbody>\n",
       "</table>\n",
       "</div>"
      ],
      "text/plain": [
       "  donor_country                                                min  \\\n",
       "                                                             donor   \n",
       "0   Afghanistan  Abdul Rahim Wardak, Defense Minister, Islamic ...   \n",
       "1       Bahrain  Abdulla H. Saif, Finance Minister, Government ...   \n",
       "2         China  A delegation of Mayors and Senior Officials fr...   \n",
       "3         Egypt            Abd el Alim Mohamed Tamer, Egyptian CNO   \n",
       "4        France  Admiral Bernard Rogel and Mrs. Christine Rogel...   \n",
       "\n",
       "                                                      \\\n",
       "                                    gift_description   \n",
       "0  (1) Red and Black Woven Rug with White Tassels...   \n",
       "1  (1) Plaque stating ``Bahrain Defense Force'' o...   \n",
       "2  10'' x 6'' x 6'' bronze statue. Rec'd--9/27/ 2...   \n",
       "3  10\" silver replica hookah, enclosed in blue fe...   \n",
       "4  $2,700 Swiss Francs in cash. Rec'd--November 1...   \n",
       "\n",
       "                                                                              \\\n",
       "                                           recipient value_usd year_received   \n",
       "0  AG Name and title of person accepting the gift...      35.0          2001   \n",
       "1   Admiral Gary Roughead, Chief of Naval Operations     120.0          2001   \n",
       "2  Admiral Cecil Haney, Commander of the U.S. Pac...       1.4          2001   \n",
       "3  Admiral Edmund Giambastiani, Vice Chairman, Jo...      85.0          2001   \n",
       "4  Admiral Jonathan Greenert, US Navy, Chief of N...     170.0          2001   \n",
       "\n",
       "                                                 max  \\\n",
       "                                               donor   \n",
       "0  the President Gifts] Identity of foreign donor...   \n",
       "1                             The Kingdom of Bahrain   \n",
       "2  Zhou Qiang, Secretary of Hunan of the Provinci...   \n",
       "3  Younis El Masri, Lieutenant General (Air Force...   \n",
       "4  World Health Organization, International Agenc...   \n",
       "\n",
       "                                                      \\\n",
       "                                    gift_description   \n",
       "0  Woven wool Afghani carpet. Rec'd--6-Mar- 07; E...   \n",
       "1  Wristwatch. Rec'd--6/21/ 2012. Est. Value-- $7...   \n",
       "2  ``The Palace Museum'' yellow tie. Ceramic plat...   \n",
       "3  Yellow alabaster bowl; sterling silver chains ...   \n",
       "4  Wine: 6 bottles of 1990 Chateau Talbot Saint- ...   \n",
       "\n",
       "                                                                         \\\n",
       "                                     recipient  value_usd year_received   \n",
       "0  White House Staff Member. LTG Lute, Douglas  110000.00          2018   \n",
       "1    White House Staff Member. Hadley, Stephen   26450.00          2018   \n",
       "2  White House Staff Member. Summers, Lawrence   20000.00          2018   \n",
       "3    White House Staff Member. Donilon, Thomas   10000.00          2018   \n",
       "4         White House Staff Member Lisa Monaco   15083.62          2018   \n",
       "\n",
       "         sum                \n",
       "   value_usd year_received  \n",
       "0  505429.42        689296  \n",
       "1  280714.82        255087  \n",
       "2  285698.60        468378  \n",
       "3   93518.45        222937  \n",
       "4  207180.09        227101  "
      ]
     },
     "execution_count": 126,
     "metadata": {},
     "output_type": "execute_result"
    }
   ],
   "source": [
    "min_max_gifts.head()"
   ]
  },
  {
   "cell_type": "code",
   "execution_count": 127,
   "id": "42d1fcb2",
   "metadata": {},
   "outputs": [],
   "source": [
    "# min_max_gifts.to_csv('min_max_us_diplomat_gifts.csv')"
   ]
  },
  {
   "cell_type": "code",
   "execution_count": null,
   "id": "975419bd",
   "metadata": {},
   "outputs": [],
   "source": []
  }
 ],
 "metadata": {
  "kernelspec": {
   "display_name": "Python 3 (ipykernel)",
   "language": "python",
   "name": "python3"
  },
  "language_info": {
   "codemirror_mode": {
    "name": "ipython",
    "version": 3
   },
   "file_extension": ".py",
   "mimetype": "text/x-python",
   "name": "python",
   "nbconvert_exporter": "python",
   "pygments_lexer": "ipython3",
   "version": "3.10.6"
  }
 },
 "nbformat": 4,
 "nbformat_minor": 5
}
